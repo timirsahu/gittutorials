{
 "cells": [
  {
   "cell_type": "code",
   "execution_count": 11,
   "id": "dd065494",
   "metadata": {},
   "outputs": [],
   "source": [
    "from pyspark.sql import SparkSession\n",
    "import pyspark as ps\n",
    "from pyspark.sql.window import Window\n",
    "from pyspark.sql.functions import rank, col"
   ]
  },
  {
   "cell_type": "code",
   "execution_count": 2,
   "id": "923d7c2c",
   "metadata": {},
   "outputs": [],
   "source": [
    "\n",
    "spark = SparkSession.builder.appName('Timir local cluster').getOrCreate()\n",
    "#rdd = spark.sparkContext.parallelize(data)\n"
   ]
  },
  {
   "cell_type": "code",
   "execution_count": 3,
   "id": "9ac217d2",
   "metadata": {},
   "outputs": [],
   "source": [
    "df = spark.read.csv(\"C:/Users/Timir/Desktop/DP-203/Netflix-Daily-Top-10.csv\",header=True)\n"
   ]
  },
  {
   "cell_type": "code",
   "execution_count": 5,
   "id": "d5d543ff",
   "metadata": {},
   "outputs": [
    {
     "data": {
      "text/plain": [
       "['As of',\n",
       " 'Rank',\n",
       " 'Year to Date Rank',\n",
       " 'Last Week Rank',\n",
       " 'Title',\n",
       " 'Type',\n",
       " 'Netflix Exclusive',\n",
       " 'Netflix Release Date',\n",
       " 'Days In Top 10',\n",
       " 'Viewership Score']"
      ]
     },
     "execution_count": 5,
     "metadata": {},
     "output_type": "execute_result"
    }
   ],
   "source": [
    "df.columns"
   ]
  },
  {
   "cell_type": "code",
   "execution_count": 6,
   "id": "0e0f9ade",
   "metadata": {},
   "outputs": [],
   "source": [
    "df2=df.select('As of',\n",
    " 'Rank',\n",
    " 'Year to Date Rank',\n",
    " 'Last Week Rank',\n",
    " 'Title',\n",
    " 'Type',\n",
    " 'Netflix Exclusive',\n",
    " 'Netflix Release Date',\n",
    " 'Days In Top 10','Viewership Score')"
   ]
  },
  {
   "cell_type": "code",
   "execution_count": 8,
   "id": "8bc1be88",
   "metadata": {},
   "outputs": [],
   "source": [
    "df3=df2.drop( 'Last Week Rank','Rank','Netflix Exclusive','Netflix Release Date')"
   ]
  },
  {
   "cell_type": "code",
   "execution_count": 9,
   "id": "2eead6e8",
   "metadata": {},
   "outputs": [
    {
     "name": "stdout",
     "output_type": "stream",
     "text": [
      "+--------+-----------------+--------------------+-------+--------------+----------------+\n",
      "|   As of|Year to Date Rank|               Title|   Type|Days In Top 10|Viewership Score|\n",
      "+--------+-----------------+--------------------+-------+--------------+----------------+\n",
      "|01/04/20|                1|Tiger King: Murde...|TV Show|             9|              90|\n",
      "|01/04/20|                2|               Ozark|TV Show|             5|              45|\n",
      "|01/04/20|                3|        All American|TV Show|             9|              76|\n",
      "|01/04/20|                4|        Blood Father|  Movie|             5|              30|\n",
      "|01/04/20|                5|        The Platform|  Movie|             9|              55|\n",
      "|01/04/20|                6|Car Masters: Rust...|TV Show|             4|              14|\n",
      "|01/04/20|               10|          Unorthodox|TV Show|             2|               5|\n",
      "|01/04/20|                7|       Love is Blind|TV Show|             9|              40|\n",
      "|01/04/20|                8|             Badland|  Movie|             4|              11|\n",
      "|01/04/20|                9|            Uncorked|  Movie|             4|              15|\n",
      "|02/04/20|                1|Tiger King: Murde...|TV Show|            10|             100|\n",
      "|02/04/20|                2|               Ozark|TV Show|             6|              54|\n",
      "|02/04/20|                3|        All American|TV Show|            10|              84|\n",
      "|02/04/20|                -|          Nailed It!|TV Show|             1|               7|\n",
      "|02/04/20|                -|How to Fix a Drug...|TV Show|             1|               6|\n",
      "|02/04/20|                4|        Blood Father|  Movie|             6|              35|\n",
      "|02/04/20|                -|        The Roommate|  Movie|             1|               4|\n",
      "|02/04/20|                7|          Unorthodox|TV Show|             3|               8|\n",
      "|02/04/20|                5|        The Platform|  Movie|            10|              57|\n",
      "|02/04/20|                6|Car Masters: Rust...|TV Show|             5|              15|\n",
      "+--------+-----------------+--------------------+-------+--------------+----------------+\n",
      "only showing top 20 rows\n",
      "\n"
     ]
    }
   ],
   "source": [
    "df3.show()"
   ]
  },
  {
   "cell_type": "code",
   "execution_count": 21,
   "id": "9141de15",
   "metadata": {},
   "outputs": [],
   "source": [
    "window=Window.partitionBy(df3['As of']).orderBy(df['Year to Date Rank'].desc())"
   ]
  },
  {
   "cell_type": "code",
   "execution_count": 31,
   "id": "e318574c",
   "metadata": {},
   "outputs": [
    {
     "name": "stdout",
     "output_type": "stream",
     "text": [
      "+--------------------+--------+-------+\n",
      "|               Title|   As of|toprank|\n",
      "+--------------------+--------+-------+\n",
      "|The Queenâs Gambit|01/01/21|      1|\n",
      "|           Cocomelon|01/01/22|      1|\n",
      "|        The Vanished|01/02/21|      1|\n",
      "|   Too Hot to Handle|01/02/22|      1|\n",
      "|        Firefly Lane|01/03/21|      1|\n",
      "|     Despicable Me 2|01/03/22|      1|\n",
      "|            Uncorked|01/04/20|      1|\n",
      "|          Seaspiracy|01/04/21|      1|\n",
      "|               Ozark|01/05/20|      1|\n",
      "|Life in Color wit...|01/05/21|      1|\n",
      "|           The Flash|01/06/20|      1|\n",
      "|           Cocomelon|01/06/21|      1|\n",
      "|       Feel the Beat|01/07/20|      1|\n",
      "|         Wish Dragon|01/07/21|      1|\n",
      "|           Zookeeper|01/08/20|      1|\n",
      "|       Blood Red Sky|01/08/21|      1|\n",
      "|           Cocomelon|01/09/20|      1|\n",
      "|         Outer Banks|01/09/21|      1|\n",
      "|           Cocomelon|01/10/20|      1|\n",
      "|           Grown Ups|01/10/21|      1|\n",
      "|The Haunting of B...|01/11/20|      1|\n",
      "|           Cocomelon|01/11/21|      1|\n",
      "|Illumination Pres...|01/12/20|      1|\n",
      "|A Boy Called Chri...|01/12/21|      1|\n",
      "|The Queenâs Gambit|02/01/21|      1|\n",
      "|Crime Scene: The ...|02/01/22|      1|\n",
      "|         Go, Dog, Go|02/02/21|      1|\n",
      "|          Archive 81|02/02/22|      1|\n",
      "|        Firefly Lane|02/03/21|      1|\n",
      "|     Sweet Magnolias|02/03/22|      1|\n",
      "|          Unorthodox|02/04/20|      1|\n",
      "|          Seaspiracy|02/04/21|      1|\n",
      "|               Ozark|02/05/20|      1|\n",
      "|              Yasuke|02/05/21|      1|\n",
      "|           Riverdale|02/06/20|      1|\n",
      "|           Cocomelon|02/06/21|      1|\n",
      "|     Crazy Delicious|02/07/20|      1|\n",
      "|         Wish Dragon|02/07/21|      1|\n",
      "|           Zookeeper|02/08/20|      1|\n",
      "|            Manifest|02/08/21|      1|\n",
      "|   Quantum of Solace|02/09/20|      1|\n",
      "|                Vivo|02/09/21|      1|\n",
      "|           Cocomelon|02/10/20|      1|\n",
      "|           Cocomelon|02/10/21|      1|\n",
      "|       Blood of Zeus|02/11/20|      1|\n",
      "|           Cocomelon|02/11/21|      1|\n",
      "|How the Grinch St...|02/12/20|      1|\n",
      "|A Castle for Chri...|02/12/21|      1|\n",
      "|The Queenâs Gambit|03/01/21|      1|\n",
      "|Crime Scene: The ...|03/01/22|      1|\n",
      "+--------------------+--------+-------+\n",
      "only showing top 50 rows\n",
      "\n"
     ]
    }
   ],
   "source": [
    "df3.select('Title','As of',rank().over(window).alias('toprank')).filter(col('toprank')<=1).show(50)"
   ]
  },
  {
   "cell_type": "code",
   "execution_count": 32,
   "id": "51ee751e",
   "metadata": {},
   "outputs": [],
   "source": [
    "df3=spark.read.csv(\"C:/Users/Timir/Desktop/DP-203/emp.csv\",header=True)"
   ]
  },
  {
   "cell_type": "code",
   "execution_count": 34,
   "id": "e801baee",
   "metadata": {},
   "outputs": [
    {
     "name": "stdout",
     "output_type": "stream",
     "text": [
      "+---+---------+----+-----+\n",
      "|EID|     DEPT| MID|  SAL|\n",
      "+---+---------+----+-----+\n",
      "|123|       IT|null|50000|\n",
      "|124|       IT| 123|20000|\n",
      "|125|       IT| 123|22000|\n",
      "|126|       HR| 123|23000|\n",
      "|127|       HR|null|55000|\n",
      "|128|       HR| 127|23000|\n",
      "|129|  Finance| 127|21000|\n",
      "|130|  Finance| 127|20000|\n",
      "|131|Marketing| 123|23000|\n",
      "|132|Marketing| 123|24000|\n",
      "+---+---------+----+-----+\n",
      "\n"
     ]
    }
   ],
   "source": [
    "df3.show()\n"
   ]
  },
  {
   "cell_type": "code",
   "execution_count": 47,
   "id": "34649fc8",
   "metadata": {},
   "outputs": [
    {
     "ename": "TypeError",
     "evalue": "Column is not iterable",
     "output_type": "error",
     "traceback": [
      "\u001b[1;31m---------------------------------------------------------------------------\u001b[0m",
      "\u001b[1;31mTypeError\u001b[0m                                 Traceback (most recent call last)",
      "Cell \u001b[1;32mIn [47], line 1\u001b[0m\n\u001b[1;32m----> 1\u001b[0m \u001b[43mdf3\u001b[49m\u001b[38;5;241;43m.\u001b[39;49m\u001b[43mgroupby\u001b[49m\u001b[43m(\u001b[49m\u001b[38;5;124;43m'\u001b[39;49m\u001b[38;5;124;43mDEPT\u001b[39;49m\u001b[38;5;124;43m'\u001b[39;49m\u001b[43m)\u001b[49m\u001b[38;5;241;43m.\u001b[39;49m\u001b[43mmax\u001b[49m\u001b[43m(\u001b[49m\u001b[43mdf3\u001b[49m\u001b[38;5;241;43m.\u001b[39;49m\u001b[43mSAL\u001b[49m\u001b[38;5;241;43m.\u001b[39;49m\u001b[43mcast\u001b[49m\u001b[43m(\u001b[49m\u001b[38;5;124;43m'\u001b[39;49m\u001b[38;5;124;43minteger\u001b[39;49m\u001b[38;5;124;43m'\u001b[39;49m\u001b[43m)\u001b[49m\u001b[43m)\u001b[49m\u001b[38;5;241m.\u001b[39mshow()\n",
      "File \u001b[1;32m~\\Pysparkenv\\Pysparkenv\\lib\\site-packages\\pyspark\\sql\\group.py:49\u001b[0m, in \u001b[0;36mdf_varargs_api.<locals>._api\u001b[1;34m(self, *cols)\u001b[0m\n\u001b[0;32m     47\u001b[0m \u001b[38;5;28;01mdef\u001b[39;00m \u001b[38;5;21m_api\u001b[39m(\u001b[38;5;28mself\u001b[39m: \u001b[38;5;124m\"\u001b[39m\u001b[38;5;124mGroupedData\u001b[39m\u001b[38;5;124m\"\u001b[39m, \u001b[38;5;241m*\u001b[39mcols: \u001b[38;5;28mstr\u001b[39m) \u001b[38;5;241m-\u001b[39m\u001b[38;5;241m>\u001b[39m DataFrame:\n\u001b[0;32m     48\u001b[0m     name \u001b[38;5;241m=\u001b[39m f\u001b[38;5;241m.\u001b[39m\u001b[38;5;18m__name__\u001b[39m\n\u001b[1;32m---> 49\u001b[0m     jdf \u001b[38;5;241m=\u001b[39m \u001b[38;5;28mgetattr\u001b[39m(\u001b[38;5;28mself\u001b[39m\u001b[38;5;241m.\u001b[39m_jgd, name)(\u001b[43m_to_seq\u001b[49m\u001b[43m(\u001b[49m\u001b[38;5;28;43mself\u001b[39;49m\u001b[38;5;241;43m.\u001b[39;49m\u001b[43msession\u001b[49m\u001b[38;5;241;43m.\u001b[39;49m\u001b[43m_sc\u001b[49m\u001b[43m,\u001b[49m\u001b[43m \u001b[49m\u001b[43mcols\u001b[49m\u001b[43m)\u001b[49m)\n\u001b[0;32m     50\u001b[0m     \u001b[38;5;28;01mreturn\u001b[39;00m DataFrame(jdf, \u001b[38;5;28mself\u001b[39m\u001b[38;5;241m.\u001b[39msession)\n",
      "File \u001b[1;32m~\\Pysparkenv\\Pysparkenv\\lib\\site-packages\\pyspark\\sql\\column.py:88\u001b[0m, in \u001b[0;36m_to_seq\u001b[1;34m(sc, cols, converter)\u001b[0m\n\u001b[0;32m     86\u001b[0m     cols \u001b[38;5;241m=\u001b[39m [converter(c) \u001b[38;5;28;01mfor\u001b[39;00m c \u001b[38;5;129;01min\u001b[39;00m cols]\n\u001b[0;32m     87\u001b[0m \u001b[38;5;28;01massert\u001b[39;00m sc\u001b[38;5;241m.\u001b[39m_jvm \u001b[38;5;129;01mis\u001b[39;00m \u001b[38;5;129;01mnot\u001b[39;00m \u001b[38;5;28;01mNone\u001b[39;00m\n\u001b[1;32m---> 88\u001b[0m \u001b[38;5;28;01mreturn\u001b[39;00m \u001b[43msc\u001b[49m\u001b[38;5;241;43m.\u001b[39;49m\u001b[43m_jvm\u001b[49m\u001b[38;5;241;43m.\u001b[39;49m\u001b[43mPythonUtils\u001b[49m\u001b[38;5;241;43m.\u001b[39;49m\u001b[43mtoSeq\u001b[49m\u001b[43m(\u001b[49m\u001b[43mcols\u001b[49m\u001b[43m)\u001b[49m\n",
      "File \u001b[1;32m~\\Pysparkenv\\Pysparkenv\\lib\\site-packages\\py4j\\java_gateway.py:1314\u001b[0m, in \u001b[0;36mJavaMember.__call__\u001b[1;34m(self, *args)\u001b[0m\n\u001b[0;32m   1313\u001b[0m \u001b[38;5;28;01mdef\u001b[39;00m \u001b[38;5;21m__call__\u001b[39m(\u001b[38;5;28mself\u001b[39m, \u001b[38;5;241m*\u001b[39margs):\n\u001b[1;32m-> 1314\u001b[0m     args_command, temp_args \u001b[38;5;241m=\u001b[39m \u001b[38;5;28;43mself\u001b[39;49m\u001b[38;5;241;43m.\u001b[39;49m\u001b[43m_build_args\u001b[49m\u001b[43m(\u001b[49m\u001b[38;5;241;43m*\u001b[39;49m\u001b[43margs\u001b[49m\u001b[43m)\u001b[49m\n\u001b[0;32m   1316\u001b[0m     command \u001b[38;5;241m=\u001b[39m proto\u001b[38;5;241m.\u001b[39mCALL_COMMAND_NAME \u001b[38;5;241m+\u001b[39m\\\n\u001b[0;32m   1317\u001b[0m         \u001b[38;5;28mself\u001b[39m\u001b[38;5;241m.\u001b[39mcommand_header \u001b[38;5;241m+\u001b[39m\\\n\u001b[0;32m   1318\u001b[0m         args_command \u001b[38;5;241m+\u001b[39m\\\n\u001b[0;32m   1319\u001b[0m         proto\u001b[38;5;241m.\u001b[39mEND_COMMAND_PART\n\u001b[0;32m   1321\u001b[0m     answer \u001b[38;5;241m=\u001b[39m \u001b[38;5;28mself\u001b[39m\u001b[38;5;241m.\u001b[39mgateway_client\u001b[38;5;241m.\u001b[39msend_command(command)\n",
      "File \u001b[1;32m~\\Pysparkenv\\Pysparkenv\\lib\\site-packages\\py4j\\java_gateway.py:1277\u001b[0m, in \u001b[0;36mJavaMember._build_args\u001b[1;34m(self, *args)\u001b[0m\n\u001b[0;32m   1275\u001b[0m \u001b[38;5;28;01mdef\u001b[39;00m \u001b[38;5;21m_build_args\u001b[39m(\u001b[38;5;28mself\u001b[39m, \u001b[38;5;241m*\u001b[39margs):\n\u001b[0;32m   1276\u001b[0m     \u001b[38;5;28;01mif\u001b[39;00m \u001b[38;5;28mself\u001b[39m\u001b[38;5;241m.\u001b[39mconverters \u001b[38;5;129;01mis\u001b[39;00m \u001b[38;5;129;01mnot\u001b[39;00m \u001b[38;5;28;01mNone\u001b[39;00m \u001b[38;5;129;01mand\u001b[39;00m \u001b[38;5;28mlen\u001b[39m(\u001b[38;5;28mself\u001b[39m\u001b[38;5;241m.\u001b[39mconverters) \u001b[38;5;241m>\u001b[39m \u001b[38;5;241m0\u001b[39m:\n\u001b[1;32m-> 1277\u001b[0m         (new_args, temp_args) \u001b[38;5;241m=\u001b[39m \u001b[38;5;28;43mself\u001b[39;49m\u001b[38;5;241;43m.\u001b[39;49m\u001b[43m_get_args\u001b[49m\u001b[43m(\u001b[49m\u001b[43margs\u001b[49m\u001b[43m)\u001b[49m\n\u001b[0;32m   1278\u001b[0m     \u001b[38;5;28;01melse\u001b[39;00m:\n\u001b[0;32m   1279\u001b[0m         new_args \u001b[38;5;241m=\u001b[39m args\n",
      "File \u001b[1;32m~\\Pysparkenv\\Pysparkenv\\lib\\site-packages\\py4j\\java_gateway.py:1264\u001b[0m, in \u001b[0;36mJavaMember._get_args\u001b[1;34m(self, args)\u001b[0m\n\u001b[0;32m   1262\u001b[0m \u001b[38;5;28;01mfor\u001b[39;00m converter \u001b[38;5;129;01min\u001b[39;00m \u001b[38;5;28mself\u001b[39m\u001b[38;5;241m.\u001b[39mgateway_client\u001b[38;5;241m.\u001b[39mconverters:\n\u001b[0;32m   1263\u001b[0m     \u001b[38;5;28;01mif\u001b[39;00m converter\u001b[38;5;241m.\u001b[39mcan_convert(arg):\n\u001b[1;32m-> 1264\u001b[0m         temp_arg \u001b[38;5;241m=\u001b[39m \u001b[43mconverter\u001b[49m\u001b[38;5;241;43m.\u001b[39;49m\u001b[43mconvert\u001b[49m\u001b[43m(\u001b[49m\u001b[43marg\u001b[49m\u001b[43m,\u001b[49m\u001b[43m \u001b[49m\u001b[38;5;28;43mself\u001b[39;49m\u001b[38;5;241;43m.\u001b[39;49m\u001b[43mgateway_client\u001b[49m\u001b[43m)\u001b[49m\n\u001b[0;32m   1265\u001b[0m         temp_args\u001b[38;5;241m.\u001b[39mappend(temp_arg)\n\u001b[0;32m   1266\u001b[0m         new_args\u001b[38;5;241m.\u001b[39mappend(temp_arg)\n",
      "File \u001b[1;32m~\\Pysparkenv\\Pysparkenv\\lib\\site-packages\\py4j\\java_collections.py:511\u001b[0m, in \u001b[0;36mListConverter.convert\u001b[1;34m(self, object, gateway_client)\u001b[0m\n\u001b[0;32m    509\u001b[0m java_list \u001b[38;5;241m=\u001b[39m ArrayList()\n\u001b[0;32m    510\u001b[0m \u001b[38;5;28;01mfor\u001b[39;00m element \u001b[38;5;129;01min\u001b[39;00m \u001b[38;5;28mobject\u001b[39m:\n\u001b[1;32m--> 511\u001b[0m     \u001b[43mjava_list\u001b[49m\u001b[38;5;241;43m.\u001b[39;49m\u001b[43madd\u001b[49m\u001b[43m(\u001b[49m\u001b[43melement\u001b[49m\u001b[43m)\u001b[49m\n\u001b[0;32m    512\u001b[0m \u001b[38;5;28;01mreturn\u001b[39;00m java_list\n",
      "File \u001b[1;32m~\\Pysparkenv\\Pysparkenv\\lib\\site-packages\\py4j\\java_gateway.py:1314\u001b[0m, in \u001b[0;36mJavaMember.__call__\u001b[1;34m(self, *args)\u001b[0m\n\u001b[0;32m   1313\u001b[0m \u001b[38;5;28;01mdef\u001b[39;00m \u001b[38;5;21m__call__\u001b[39m(\u001b[38;5;28mself\u001b[39m, \u001b[38;5;241m*\u001b[39margs):\n\u001b[1;32m-> 1314\u001b[0m     args_command, temp_args \u001b[38;5;241m=\u001b[39m \u001b[38;5;28;43mself\u001b[39;49m\u001b[38;5;241;43m.\u001b[39;49m\u001b[43m_build_args\u001b[49m\u001b[43m(\u001b[49m\u001b[38;5;241;43m*\u001b[39;49m\u001b[43margs\u001b[49m\u001b[43m)\u001b[49m\n\u001b[0;32m   1316\u001b[0m     command \u001b[38;5;241m=\u001b[39m proto\u001b[38;5;241m.\u001b[39mCALL_COMMAND_NAME \u001b[38;5;241m+\u001b[39m\\\n\u001b[0;32m   1317\u001b[0m         \u001b[38;5;28mself\u001b[39m\u001b[38;5;241m.\u001b[39mcommand_header \u001b[38;5;241m+\u001b[39m\\\n\u001b[0;32m   1318\u001b[0m         args_command \u001b[38;5;241m+\u001b[39m\\\n\u001b[0;32m   1319\u001b[0m         proto\u001b[38;5;241m.\u001b[39mEND_COMMAND_PART\n\u001b[0;32m   1321\u001b[0m     answer \u001b[38;5;241m=\u001b[39m \u001b[38;5;28mself\u001b[39m\u001b[38;5;241m.\u001b[39mgateway_client\u001b[38;5;241m.\u001b[39msend_command(command)\n",
      "File \u001b[1;32m~\\Pysparkenv\\Pysparkenv\\lib\\site-packages\\py4j\\java_gateway.py:1277\u001b[0m, in \u001b[0;36mJavaMember._build_args\u001b[1;34m(self, *args)\u001b[0m\n\u001b[0;32m   1275\u001b[0m \u001b[38;5;28;01mdef\u001b[39;00m \u001b[38;5;21m_build_args\u001b[39m(\u001b[38;5;28mself\u001b[39m, \u001b[38;5;241m*\u001b[39margs):\n\u001b[0;32m   1276\u001b[0m     \u001b[38;5;28;01mif\u001b[39;00m \u001b[38;5;28mself\u001b[39m\u001b[38;5;241m.\u001b[39mconverters \u001b[38;5;129;01mis\u001b[39;00m \u001b[38;5;129;01mnot\u001b[39;00m \u001b[38;5;28;01mNone\u001b[39;00m \u001b[38;5;129;01mand\u001b[39;00m \u001b[38;5;28mlen\u001b[39m(\u001b[38;5;28mself\u001b[39m\u001b[38;5;241m.\u001b[39mconverters) \u001b[38;5;241m>\u001b[39m \u001b[38;5;241m0\u001b[39m:\n\u001b[1;32m-> 1277\u001b[0m         (new_args, temp_args) \u001b[38;5;241m=\u001b[39m \u001b[38;5;28;43mself\u001b[39;49m\u001b[38;5;241;43m.\u001b[39;49m\u001b[43m_get_args\u001b[49m\u001b[43m(\u001b[49m\u001b[43margs\u001b[49m\u001b[43m)\u001b[49m\n\u001b[0;32m   1278\u001b[0m     \u001b[38;5;28;01melse\u001b[39;00m:\n\u001b[0;32m   1279\u001b[0m         new_args \u001b[38;5;241m=\u001b[39m args\n",
      "File \u001b[1;32m~\\Pysparkenv\\Pysparkenv\\lib\\site-packages\\py4j\\java_gateway.py:1264\u001b[0m, in \u001b[0;36mJavaMember._get_args\u001b[1;34m(self, args)\u001b[0m\n\u001b[0;32m   1262\u001b[0m \u001b[38;5;28;01mfor\u001b[39;00m converter \u001b[38;5;129;01min\u001b[39;00m \u001b[38;5;28mself\u001b[39m\u001b[38;5;241m.\u001b[39mgateway_client\u001b[38;5;241m.\u001b[39mconverters:\n\u001b[0;32m   1263\u001b[0m     \u001b[38;5;28;01mif\u001b[39;00m converter\u001b[38;5;241m.\u001b[39mcan_convert(arg):\n\u001b[1;32m-> 1264\u001b[0m         temp_arg \u001b[38;5;241m=\u001b[39m \u001b[43mconverter\u001b[49m\u001b[38;5;241;43m.\u001b[39;49m\u001b[43mconvert\u001b[49m\u001b[43m(\u001b[49m\u001b[43marg\u001b[49m\u001b[43m,\u001b[49m\u001b[43m \u001b[49m\u001b[38;5;28;43mself\u001b[39;49m\u001b[38;5;241;43m.\u001b[39;49m\u001b[43mgateway_client\u001b[49m\u001b[43m)\u001b[49m\n\u001b[0;32m   1265\u001b[0m         temp_args\u001b[38;5;241m.\u001b[39mappend(temp_arg)\n\u001b[0;32m   1266\u001b[0m         new_args\u001b[38;5;241m.\u001b[39mappend(temp_arg)\n",
      "File \u001b[1;32m~\\Pysparkenv\\Pysparkenv\\lib\\site-packages\\py4j\\java_collections.py:510\u001b[0m, in \u001b[0;36mListConverter.convert\u001b[1;34m(self, object, gateway_client)\u001b[0m\n\u001b[0;32m    508\u001b[0m ArrayList \u001b[38;5;241m=\u001b[39m JavaClass(\u001b[38;5;124m\"\u001b[39m\u001b[38;5;124mjava.util.ArrayList\u001b[39m\u001b[38;5;124m\"\u001b[39m, gateway_client)\n\u001b[0;32m    509\u001b[0m java_list \u001b[38;5;241m=\u001b[39m ArrayList()\n\u001b[1;32m--> 510\u001b[0m \u001b[38;5;28;01mfor\u001b[39;00m element \u001b[38;5;129;01min\u001b[39;00m \u001b[38;5;28mobject\u001b[39m:\n\u001b[0;32m    511\u001b[0m     java_list\u001b[38;5;241m.\u001b[39madd(element)\n\u001b[0;32m    512\u001b[0m \u001b[38;5;28;01mreturn\u001b[39;00m java_list\n",
      "File \u001b[1;32m~\\Pysparkenv\\Pysparkenv\\lib\\site-packages\\pyspark\\sql\\column.py:710\u001b[0m, in \u001b[0;36mColumn.__iter__\u001b[1;34m(self)\u001b[0m\n\u001b[0;32m    709\u001b[0m \u001b[38;5;28;01mdef\u001b[39;00m \u001b[38;5;21m__iter__\u001b[39m(\u001b[38;5;28mself\u001b[39m) \u001b[38;5;241m-\u001b[39m\u001b[38;5;241m>\u001b[39m \u001b[38;5;28;01mNone\u001b[39;00m:\n\u001b[1;32m--> 710\u001b[0m     \u001b[38;5;28;01mraise\u001b[39;00m \u001b[38;5;167;01mTypeError\u001b[39;00m(\u001b[38;5;124m\"\u001b[39m\u001b[38;5;124mColumn is not iterable\u001b[39m\u001b[38;5;124m\"\u001b[39m)\n",
      "\u001b[1;31mTypeError\u001b[0m: Column is not iterable"
     ]
    }
   ],
   "source": [
    "df3.groupby('DEPT').max(df3.SAL.cast('integer')).show()"
   ]
  },
  {
   "cell_type": "code",
   "execution_count": null,
   "id": "f4fe3bbf",
   "metadata": {},
   "outputs": [],
   "source": []
  }
 ],
 "metadata": {
  "kernelspec": {
   "display_name": "Pysparkenv",
   "language": "python",
   "name": "pysparkenv"
  },
  "language_info": {
   "codemirror_mode": {
    "name": "ipython",
    "version": 3
   },
   "file_extension": ".py",
   "mimetype": "text/x-python",
   "name": "python",
   "nbconvert_exporter": "python",
   "pygments_lexer": "ipython3",
   "version": "3.8.8"
  }
 },
 "nbformat": 4,
 "nbformat_minor": 5
}
