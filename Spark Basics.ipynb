{
 "cells": [
  {
   "cell_type": "code",
   "execution_count": 11,
   "id": "76267afd",
   "metadata": {},
   "outputs": [],
   "source": [
    "from pyspark.sql import SparkSession\n",
    "import pyspark as ps\n",
    "from pyspark.sql.window import Window\n",
    "from pyspark.sql.functions import rank, col"
   ]
  },
  {
   "cell_type": "code",
   "execution_count": 2,
   "id": "2393d617",
   "metadata": {},
   "outputs": [],
   "source": [
    "\n",
    "spark = SparkSession.builder.appName('Timir local cluster').getOrCreate()\n",
    "#rdd = spark.sparkContext.parallelize(data)\n"
   ]
  },
  {
   "cell_type": "code",
   "execution_count": 3,
   "id": "9e717999",
   "metadata": {},
   "outputs": [],
   "source": [
    "df = spark.read.csv(\"C:/Users/Timir/Desktop/DP-203/Netflix-Daily-Top-10.csv\",header=True)\n"
   ]
  },
  {
   "cell_type": "code",
   "execution_count": 5,
   "id": "e73cf349",
   "metadata": {},
   "outputs": [
    {
     "data": {
      "text/plain": [
       "['As of',\n",
       " 'Rank',\n",
       " 'Year to Date Rank',\n",
       " 'Last Week Rank',\n",
       " 'Title',\n",
       " 'Type',\n",
       " 'Netflix Exclusive',\n",
       " 'Netflix Release Date',\n",
       " 'Days In Top 10',\n",
       " 'Viewership Score']"
      ]
     },
     "execution_count": 5,
     "metadata": {},
     "output_type": "execute_result"
    }
   ],
   "source": [
    "df.columns"
   ]
  },
  {
   "cell_type": "code",
   "execution_count": 6,
   "id": "b39cdde0",
   "metadata": {},
   "outputs": [],
   "source": [
    "df2=df.select('As of',\n",
    " 'Rank',\n",
    " 'Year to Date Rank',\n",
    " 'Last Week Rank',\n",
    " 'Title',\n",
    " 'Type',\n",
    " 'Netflix Exclusive',\n",
    " 'Netflix Release Date',\n",
    " 'Days In Top 10','Viewership Score')"
   ]
  },
  {
   "cell_type": "code",
   "execution_count": 8,
   "id": "f87723f0",
   "metadata": {},
   "outputs": [],
   "source": [
    "df3=df2.drop( 'Last Week Rank','Rank','Netflix Exclusive','Netflix Release Date')"
   ]
  },
  {
   "cell_type": "code",
   "execution_count": 9,
   "id": "9216d0cb",
   "metadata": {},
   "outputs": [
    {
     "name": "stdout",
     "output_type": "stream",
     "text": [
      "+--------+-----------------+--------------------+-------+--------------+----------------+\n",
      "|   As of|Year to Date Rank|               Title|   Type|Days In Top 10|Viewership Score|\n",
      "+--------+-----------------+--------------------+-------+--------------+----------------+\n",
      "|01/04/20|                1|Tiger King: Murde...|TV Show|             9|              90|\n",
      "|01/04/20|                2|               Ozark|TV Show|             5|              45|\n",
      "|01/04/20|                3|        All American|TV Show|             9|              76|\n",
      "|01/04/20|                4|        Blood Father|  Movie|             5|              30|\n",
      "|01/04/20|                5|        The Platform|  Movie|             9|              55|\n",
      "|01/04/20|                6|Car Masters: Rust...|TV Show|             4|              14|\n",
      "|01/04/20|               10|          Unorthodox|TV Show|             2|               5|\n",
      "|01/04/20|                7|       Love is Blind|TV Show|             9|              40|\n",
      "|01/04/20|                8|             Badland|  Movie|             4|              11|\n",
      "|01/04/20|                9|            Uncorked|  Movie|             4|              15|\n",
      "|02/04/20|                1|Tiger King: Murde...|TV Show|            10|             100|\n",
      "|02/04/20|                2|               Ozark|TV Show|             6|              54|\n",
      "|02/04/20|                3|        All American|TV Show|            10|              84|\n",
      "|02/04/20|                -|          Nailed It!|TV Show|             1|               7|\n",
      "|02/04/20|                -|How to Fix a Drug...|TV Show|             1|               6|\n",
      "|02/04/20|                4|        Blood Father|  Movie|             6|              35|\n",
      "|02/04/20|                -|        The Roommate|  Movie|             1|               4|\n",
      "|02/04/20|                7|          Unorthodox|TV Show|             3|               8|\n",
      "|02/04/20|                5|        The Platform|  Movie|            10|              57|\n",
      "|02/04/20|                6|Car Masters: Rust...|TV Show|             5|              15|\n",
      "+--------+-----------------+--------------------+-------+--------------+----------------+\n",
      "only showing top 20 rows\n",
      "\n"
     ]
    }
   ],
   "source": [
    "df3.show()"
   ]
  },
  {
   "cell_type": "code",
   "execution_count": 21,
   "id": "8b1c6c9f",
   "metadata": {},
   "outputs": [],
   "source": [
    "window=Window.partitionBy(df3['As of']).orderBy(df['Year to Date Rank'].desc())"
   ]
  },
  {
   "cell_type": "code",
   "execution_count": 31,
   "id": "2ecde531",
   "metadata": {},
   "outputs": [
    {
     "name": "stdout",
     "output_type": "stream",
     "text": [
      "+--------------------+--------+-------+\n",
      "|               Title|   As of|toprank|\n",
      "+--------------------+--------+-------+\n",
      "|The Queenâs Gambit|01/01/21|      1|\n",
      "|           Cocomelon|01/01/22|      1|\n",
      "|        The Vanished|01/02/21|      1|\n",
      "|   Too Hot to Handle|01/02/22|      1|\n",
      "|        Firefly Lane|01/03/21|      1|\n",
      "|     Despicable Me 2|01/03/22|      1|\n",
      "|            Uncorked|01/04/20|      1|\n",
      "|          Seaspiracy|01/04/21|      1|\n",
      "|               Ozark|01/05/20|      1|\n",
      "|Life in Color wit...|01/05/21|      1|\n",
      "|           The Flash|01/06/20|      1|\n",
      "|           Cocomelon|01/06/21|      1|\n",
      "|       Feel the Beat|01/07/20|      1|\n",
      "|         Wish Dragon|01/07/21|      1|\n",
      "|           Zookeeper|01/08/20|      1|\n",
      "|       Blood Red Sky|01/08/21|      1|\n",
      "|           Cocomelon|01/09/20|      1|\n",
      "|         Outer Banks|01/09/21|      1|\n",
      "|           Cocomelon|01/10/20|      1|\n",
      "|           Grown Ups|01/10/21|      1|\n",
      "|The Haunting of B...|01/11/20|      1|\n",
      "|           Cocomelon|01/11/21|      1|\n",
      "|Illumination Pres...|01/12/20|      1|\n",
      "|A Boy Called Chri...|01/12/21|      1|\n",
      "|The Queenâs Gambit|02/01/21|      1|\n",
      "|Crime Scene: The ...|02/01/22|      1|\n",
      "|         Go, Dog, Go|02/02/21|      1|\n",
      "|          Archive 81|02/02/22|      1|\n",
      "|        Firefly Lane|02/03/21|      1|\n",
      "|     Sweet Magnolias|02/03/22|      1|\n",
      "|          Unorthodox|02/04/20|      1|\n",
      "|          Seaspiracy|02/04/21|      1|\n",
      "|               Ozark|02/05/20|      1|\n",
      "|              Yasuke|02/05/21|      1|\n",
      "|           Riverdale|02/06/20|      1|\n",
      "|           Cocomelon|02/06/21|      1|\n",
      "|     Crazy Delicious|02/07/20|      1|\n",
      "|         Wish Dragon|02/07/21|      1|\n",
      "|           Zookeeper|02/08/20|      1|\n",
      "|            Manifest|02/08/21|      1|\n",
      "|   Quantum of Solace|02/09/20|      1|\n",
      "|                Vivo|02/09/21|      1|\n",
      "|           Cocomelon|02/10/20|      1|\n",
      "|           Cocomelon|02/10/21|      1|\n",
      "|       Blood of Zeus|02/11/20|      1|\n",
      "|           Cocomelon|02/11/21|      1|\n",
      "|How the Grinch St...|02/12/20|      1|\n",
      "|A Castle for Chri...|02/12/21|      1|\n",
      "|The Queenâs Gambit|03/01/21|      1|\n",
      "|Crime Scene: The ...|03/01/22|      1|\n",
      "+--------------------+--------+-------+\n",
      "only showing top 50 rows\n",
      "\n"
     ]
    }
   ],
   "source": [
    "df3.select('Title','As of',rank().over(window).alias('toprank')).filter(col('toprank')<=1).show(50)"
   ]
  },
  {
   "cell_type": "code",
   "execution_count": null,
   "id": "6e7baa4c",
   "metadata": {},
   "outputs": [],
   "source": []
  }
 ],
 "metadata": {
  "kernelspec": {
   "display_name": "Pysparkenv",
   "language": "python",
   "name": "pysparkenv"
  },
  "language_info": {
   "codemirror_mode": {
    "name": "ipython",
    "version": 3
   },
   "file_extension": ".py",
   "mimetype": "text/x-python",
   "name": "python",
   "nbconvert_exporter": "python",
   "pygments_lexer": "ipython3",
   "version": "3.8.8"
  }
 },
 "nbformat": 4,
 "nbformat_minor": 5
}
